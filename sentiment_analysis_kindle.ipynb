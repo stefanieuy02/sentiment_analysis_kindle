{
 "cells": [
  {
   "cell_type": "code",
   "execution_count": 1,
   "metadata": {},
   "outputs": [
    {
     "name": "stderr",
     "output_type": "stream",
     "text": [
      "[nltk_data] Downloading package punkt to /Users/Stefanie/nltk_data...\n",
      "[nltk_data]   Package punkt is already up-to-date!\n",
      "[nltk_data] Downloading package stopwords to\n",
      "[nltk_data]     /Users/Stefanie/nltk_data...\n",
      "[nltk_data]   Package stopwords is already up-to-date!\n",
      "[nltk_data] Downloading package wordnet to\n",
      "[nltk_data]     /Users/Stefanie/nltk_data...\n",
      "[nltk_data]   Package wordnet is already up-to-date!\n"
     ]
    }
   ],
   "source": [
    "# import Python packages\n",
    "import pandas as pd\n",
    "import numpy as np\n",
    "#from google.colab import files\n",
    "import matplotlib.pyplot as plt\n",
    "\n",
    "# regression package\n",
    "import statsmodels.api as sm\n",
    "\n",
    "# sentiment analysis packages\n",
    "import re\n",
    "import nltk\n",
    "nltk.download('punkt')\n",
    "from nltk.tokenize import word_tokenize\n",
    "from nltk import pos_tag\n",
    "nltk.download('stopwords')\n",
    "from nltk.corpus import stopwords\n",
    "nltk.download('wordnet')\n",
    "from nltk.corpus import wordnet\n",
    "from nltk.stem import PorterStemmer\n",
    "from textblob import TextBlob\n",
    "\n",
    "# topic modeling packages\n",
    "import gensim\n",
    "from gensim import corpora"
   ]
  },
  {
   "cell_type": "code",
   "execution_count": 9,
   "metadata": {},
   "outputs": [
    {
     "data": {
      "text/html": [
       "<div>\n",
       "<style scoped>\n",
       "    .dataframe tbody tr th:only-of-type {\n",
       "        vertical-align: middle;\n",
       "    }\n",
       "\n",
       "    .dataframe tbody tr th {\n",
       "        vertical-align: top;\n",
       "    }\n",
       "\n",
       "    .dataframe thead th {\n",
       "        text-align: right;\n",
       "    }\n",
       "</style>\n",
       "<table border=\"1\" class=\"dataframe\">\n",
       "  <thead>\n",
       "    <tr style=\"text-align: right;\">\n",
       "      <th></th>\n",
       "      <th>Review_ID</th>\n",
       "      <th>Item_ID</th>\n",
       "      <th>Base_item_ID</th>\n",
       "      <th>Review_date</th>\n",
       "      <th>Reviewer_ID</th>\n",
       "      <th>Real_name</th>\n",
       "      <th>Verified_purchase</th>\n",
       "      <th>Rating</th>\n",
       "      <th>Title</th>\n",
       "      <th>Content</th>\n",
       "      <th>...</th>\n",
       "      <th>Helpful_votes_week15</th>\n",
       "      <th>Helpful_votes_week16</th>\n",
       "      <th>Helpful_votes_week17</th>\n",
       "      <th>Helpful_votes_week18</th>\n",
       "      <th>Helpful_votes_week19</th>\n",
       "      <th>Helpful_votes_week20</th>\n",
       "      <th>Helpful_votes_week21</th>\n",
       "      <th>Helpful_votes_week22</th>\n",
       "      <th>Helpful_votes_week23</th>\n",
       "      <th>Helpful_votes_week24</th>\n",
       "    </tr>\n",
       "  </thead>\n",
       "  <tbody>\n",
       "    <tr>\n",
       "      <th>0</th>\n",
       "      <td>R100E6MT94PK6L</td>\n",
       "      <td>B0051VVOB2</td>\n",
       "      <td>NaN</td>\n",
       "      <td>1/8/2012</td>\n",
       "      <td>A1HGATCAMGXTGF</td>\n",
       "      <td>False</td>\n",
       "      <td>True</td>\n",
       "      <td>5</td>\n",
       "      <td>Love My Kindle Fire!</td>\n",
       "      <td>I love my fire and highly recommend it to anyo...</td>\n",
       "      <td>...</td>\n",
       "      <td>5.0</td>\n",
       "      <td>5.0</td>\n",
       "      <td>5.0</td>\n",
       "      <td>5.0</td>\n",
       "      <td>5.0</td>\n",
       "      <td>5.0</td>\n",
       "      <td>5.0</td>\n",
       "      <td>5.0</td>\n",
       "      <td>5.0</td>\n",
       "      <td>5</td>\n",
       "    </tr>\n",
       "    <tr>\n",
       "      <th>1</th>\n",
       "      <td>R100HU42LKLLD0</td>\n",
       "      <td>B0057O9O6K</td>\n",
       "      <td>NaN</td>\n",
       "      <td>4/10/2012</td>\n",
       "      <td>A3GGO95QT2PP47</td>\n",
       "      <td>False</td>\n",
       "      <td>True</td>\n",
       "      <td>2</td>\n",
       "      <td>Not the best Tablet or a good buy</td>\n",
       "      <td>The operating system is is an early android. Y...</td>\n",
       "      <td>...</td>\n",
       "      <td>1.0</td>\n",
       "      <td>1.0</td>\n",
       "      <td>1.0</td>\n",
       "      <td>1.0</td>\n",
       "      <td>1.0</td>\n",
       "      <td>1.0</td>\n",
       "      <td>1.0</td>\n",
       "      <td>1.0</td>\n",
       "      <td>1.0</td>\n",
       "      <td>1</td>\n",
       "    </tr>\n",
       "  </tbody>\n",
       "</table>\n",
       "<p>2 rows × 58 columns</p>\n",
       "</div>"
      ],
      "text/plain": [
       "        Review_ID     Item_ID Base_item_ID Review_date     Reviewer_ID  \\\n",
       "0  R100E6MT94PK6L  B0051VVOB2          NaN    1/8/2012  A1HGATCAMGXTGF   \n",
       "1  R100HU42LKLLD0  B0057O9O6K          NaN   4/10/2012  A3GGO95QT2PP47   \n",
       "\n",
       "   Real_name  Verified_purchase  Rating                              Title  \\\n",
       "0      False               True       5               Love My Kindle Fire!   \n",
       "1      False               True       2  Not the best Tablet or a good buy   \n",
       "\n",
       "                                             Content  ...  \\\n",
       "0  I love my fire and highly recommend it to anyo...  ...   \n",
       "1  The operating system is is an early android. Y...  ...   \n",
       "\n",
       "   Helpful_votes_week15  Helpful_votes_week16  Helpful_votes_week17  \\\n",
       "0                   5.0                   5.0                   5.0   \n",
       "1                   1.0                   1.0                   1.0   \n",
       "\n",
       "   Helpful_votes_week18  Helpful_votes_week19  Helpful_votes_week20  \\\n",
       "0                   5.0                   5.0                   5.0   \n",
       "1                   1.0                   1.0                   1.0   \n",
       "\n",
       "   Helpful_votes_week21  Helpful_votes_week22  Helpful_votes_week23  \\\n",
       "0                   5.0                   5.0                   5.0   \n",
       "1                   1.0                   1.0                   1.0   \n",
       "\n",
       "   Helpful_votes_week24  \n",
       "0                     5  \n",
       "1                     1  \n",
       "\n",
       "[2 rows x 58 columns]"
      ]
     },
     "execution_count": 9,
     "metadata": {},
     "output_type": "execute_result"
    }
   ],
   "source": [
    "reviews = pd.read_csv('product_reviews.csv') \n",
    "reviews.head(2)"
   ]
  },
  {
   "cell_type": "code",
   "execution_count": 10,
   "metadata": {},
   "outputs": [
    {
     "data": {
      "text/html": [
       "<div>\n",
       "<style scoped>\n",
       "    .dataframe tbody tr th:only-of-type {\n",
       "        vertical-align: middle;\n",
       "    }\n",
       "\n",
       "    .dataframe tbody tr th {\n",
       "        vertical-align: top;\n",
       "    }\n",
       "\n",
       "    .dataframe thead th {\n",
       "        text-align: right;\n",
       "    }\n",
       "</style>\n",
       "<table border=\"1\" class=\"dataframe\">\n",
       "  <thead>\n",
       "    <tr style=\"text-align: right;\">\n",
       "      <th></th>\n",
       "      <th>Rating</th>\n",
       "      <th>Content</th>\n",
       "    </tr>\n",
       "  </thead>\n",
       "  <tbody>\n",
       "    <tr>\n",
       "      <th>0</th>\n",
       "      <td>5</td>\n",
       "      <td>I love my fire and highly recommend it to anyo...</td>\n",
       "    </tr>\n",
       "    <tr>\n",
       "      <th>1</th>\n",
       "      <td>2</td>\n",
       "      <td>The operating system is is an early android. Y...</td>\n",
       "    </tr>\n",
       "  </tbody>\n",
       "</table>\n",
       "</div>"
      ],
      "text/plain": [
       "   Rating                                            Content\n",
       "0       5  I love my fire and highly recommend it to anyo...\n",
       "1       2  The operating system is is an early android. Y..."
      ]
     },
     "execution_count": 10,
     "metadata": {},
     "output_type": "execute_result"
    }
   ],
   "source": [
    "reviews_sample = reviews[['Rating','Content']]\n",
    "reviews_sample.head(2)"
   ]
  },
  {
   "cell_type": "code",
   "execution_count": 11,
   "metadata": {},
   "outputs": [
    {
     "name": "stderr",
     "output_type": "stream",
     "text": [
      "<ipython-input-11-5f252bcfcff9>:11: SettingWithCopyWarning: \n",
      "A value is trying to be set on a copy of a slice from a DataFrame.\n",
      "Try using .loc[row_indexer,col_indexer] = value instead\n",
      "\n",
      "See the caveats in the documentation: https://pandas.pydata.org/pandas-docs/stable/user_guide/indexing.html#returning-a-view-versus-a-copy\n",
      "  reviews_sample['Cleaned Reviews'] = reviews_sample['Content'].apply(clean)\n"
     ]
    },
    {
     "data": {
      "text/html": [
       "<div>\n",
       "<style scoped>\n",
       "    .dataframe tbody tr th:only-of-type {\n",
       "        vertical-align: middle;\n",
       "    }\n",
       "\n",
       "    .dataframe tbody tr th {\n",
       "        vertical-align: top;\n",
       "    }\n",
       "\n",
       "    .dataframe thead th {\n",
       "        text-align: right;\n",
       "    }\n",
       "</style>\n",
       "<table border=\"1\" class=\"dataframe\">\n",
       "  <thead>\n",
       "    <tr style=\"text-align: right;\">\n",
       "      <th></th>\n",
       "      <th>Rating</th>\n",
       "      <th>Content</th>\n",
       "      <th>Cleaned Reviews</th>\n",
       "    </tr>\n",
       "  </thead>\n",
       "  <tbody>\n",
       "    <tr>\n",
       "      <th>0</th>\n",
       "      <td>5</td>\n",
       "      <td>I love my fire and highly recommend it to anyo...</td>\n",
       "      <td>i love my fire and highly recommend it to anyo...</td>\n",
       "    </tr>\n",
       "    <tr>\n",
       "      <th>1</th>\n",
       "      <td>2</td>\n",
       "      <td>The operating system is is an early android. Y...</td>\n",
       "      <td>the operating system is is an early android yo...</td>\n",
       "    </tr>\n",
       "  </tbody>\n",
       "</table>\n",
       "</div>"
      ],
      "text/plain": [
       "   Rating                                            Content  \\\n",
       "0       5  I love my fire and highly recommend it to anyo...   \n",
       "1       2  The operating system is is an early android. Y...   \n",
       "\n",
       "                                     Cleaned Reviews  \n",
       "0  i love my fire and highly recommend it to anyo...  \n",
       "1  the operating system is is an early android yo...  "
      ]
     },
     "execution_count": 11,
     "metadata": {},
     "output_type": "execute_result"
    }
   ],
   "source": [
    "#clean data\n",
    "# remove punctuation and numbers, lower case the text\n",
    "def clean(text):\n",
    "    # replace any non-letters with a space\n",
    "    text = re.sub('[^A-Za-z]+', ' ', text)\n",
    "    # lower case the text\n",
    "    text = text.lower()\n",
    "    return text\n",
    "\n",
    "# apply the function clean to each review\n",
    "reviews_sample['Cleaned Reviews'] = reviews_sample['Content'].apply(clean)\n",
    "reviews_sample.head(2)"
   ]
  },
  {
   "cell_type": "code",
   "execution_count": 12,
   "metadata": {},
   "outputs": [],
   "source": [
    "#filter for kindle reviews\n",
    "reviews_sample = reviews_sample[reviews_sample['Cleaned Reviews'].str.contains('kindle')]"
   ]
  },
  {
   "cell_type": "code",
   "execution_count": 15,
   "metadata": {},
   "outputs": [],
   "source": [
    "revews_sample_2 = reviews_sample"
   ]
  },
  {
   "cell_type": "code",
   "execution_count": 26,
   "metadata": {},
   "outputs": [
    {
     "data": {
      "text/plain": [
       "(16381, 4)"
      ]
     },
     "execution_count": 26,
     "metadata": {},
     "output_type": "execute_result"
    }
   ],
   "source": [
    "reviews_sample.shape"
   ]
  },
  {
   "cell_type": "code",
   "execution_count": 14,
   "metadata": {},
   "outputs": [
    {
     "data": {
      "text/html": [
       "<div>\n",
       "<style scoped>\n",
       "    .dataframe tbody tr th:only-of-type {\n",
       "        vertical-align: middle;\n",
       "    }\n",
       "\n",
       "    .dataframe tbody tr th {\n",
       "        vertical-align: top;\n",
       "    }\n",
       "\n",
       "    .dataframe thead th {\n",
       "        text-align: right;\n",
       "    }\n",
       "</style>\n",
       "<table border=\"1\" class=\"dataframe\">\n",
       "  <thead>\n",
       "    <tr style=\"text-align: right;\">\n",
       "      <th></th>\n",
       "      <th>Rating</th>\n",
       "      <th>Content</th>\n",
       "      <th>Cleaned Reviews</th>\n",
       "      <th>Final Reviews</th>\n",
       "    </tr>\n",
       "  </thead>\n",
       "  <tbody>\n",
       "    <tr>\n",
       "      <th>1</th>\n",
       "      <td>2</td>\n",
       "      <td>The operating system is is an early android. Y...</td>\n",
       "      <td>the operating system is is an early android yo...</td>\n",
       "      <td>oper system earli android cant use download k...</td>\n",
       "    </tr>\n",
       "    <tr>\n",
       "      <th>2</th>\n",
       "      <td>2</td>\n",
       "      <td>I have been reading on Kindle since the Kindle...</td>\n",
       "      <td>i have been reading on kindle since the kindle...</td>\n",
       "      <td>read kindl sinc kindl releas pretti heavili i...</td>\n",
       "    </tr>\n",
       "  </tbody>\n",
       "</table>\n",
       "</div>"
      ],
      "text/plain": [
       "   Rating                                            Content  \\\n",
       "1       2  The operating system is is an early android. Y...   \n",
       "2       2  I have been reading on Kindle since the Kindle...   \n",
       "\n",
       "                                     Cleaned Reviews  \\\n",
       "1  the operating system is is an early android yo...   \n",
       "2  i have been reading on kindle since the kindle...   \n",
       "\n",
       "                                       Final Reviews  \n",
       "1   oper system earli android cant use download k...  \n",
       "2   read kindl sinc kindl releas pretti heavili i...  "
      ]
     },
     "execution_count": 14,
     "metadata": {},
     "output_type": "execute_result"
    }
   ],
   "source": [
    "#remove stop words and stem \n",
    "ps = PorterStemmer() \n",
    "\n",
    "def token_stop_stem(text):\n",
    "    tokens = word_tokenize(text) #tokenize the text\n",
    "    newlist = []\n",
    "    new_review = \"\"\n",
    "    for word in tokens:\n",
    "        if word not in set(stopwords.words('english')): # remove stop words\n",
    "          word_stem = ps.stem(word) # stem each word\n",
    "          newlist.append(word_stem)\n",
    "          new_review = new_review + \" \" + word_stem\n",
    "    return new_review\n",
    "\n",
    "reviews_sample['Final Reviews'] = reviews_sample['Cleaned Reviews'].apply(token_stop_stem)\n",
    "reviews_sample.head(2)"
   ]
  },
  {
   "cell_type": "code",
   "execution_count": 36,
   "metadata": {},
   "outputs": [],
   "source": [
    "def getPolarityScore(review):\n",
    "    return TextBlob(review).sentiment.polarity\n",
    "\n",
    "# function to analyze the reviews\n",
    "def getPolarity(score):\n",
    "    if score < 0:\n",
    "        return 'Negative'\n",
    "    elif score == 0:\n",
    "        return 'Neutral'\n",
    "    else:\n",
    "        return 'Positive'"
   ]
  },
  {
   "cell_type": "markdown",
   "metadata": {},
   "source": [
    "## Checking sentiment polarities for Kindle attributes\n",
    " ## screen, customer service, weight\n",
    " \n"
   ]
  },
  {
   "cell_type": "code",
   "execution_count": 35,
   "metadata": {},
   "outputs": [],
   "source": [
    "#Kindle reviews that contain the word \"screen\"\n",
    "reviews_sample_screen = reviews_sample[reviews_sample['Cleaned Reviews'].str.contains('screen')]"
   ]
  },
  {
   "cell_type": "code",
   "execution_count": 40,
   "metadata": {},
   "outputs": [
    {
     "name": "stderr",
     "output_type": "stream",
     "text": [
      "<ipython-input-40-534b5ea0db82>:1: SettingWithCopyWarning: \n",
      "A value is trying to be set on a copy of a slice from a DataFrame.\n",
      "Try using .loc[row_indexer,col_indexer] = value instead\n",
      "\n",
      "See the caveats in the documentation: https://pandas.pydata.org/pandas-docs/stable/user_guide/indexing.html#returning-a-view-versus-a-copy\n",
      "  reviews_sample_screen['Score'] = reviews_sample_screen['Final Reviews'].apply(getPolarityScore)\n",
      "<ipython-input-40-534b5ea0db82>:2: SettingWithCopyWarning: \n",
      "A value is trying to be set on a copy of a slice from a DataFrame.\n",
      "Try using .loc[row_indexer,col_indexer] = value instead\n",
      "\n",
      "See the caveats in the documentation: https://pandas.pydata.org/pandas-docs/stable/user_guide/indexing.html#returning-a-view-versus-a-copy\n",
      "  reviews_sample_screen['Polarity'] = reviews_sample_screen['Score'].apply(getPolarity)\n"
     ]
    },
    {
     "data": {
      "text/html": [
       "<div>\n",
       "<style scoped>\n",
       "    .dataframe tbody tr th:only-of-type {\n",
       "        vertical-align: middle;\n",
       "    }\n",
       "\n",
       "    .dataframe tbody tr th {\n",
       "        vertical-align: top;\n",
       "    }\n",
       "\n",
       "    .dataframe thead th {\n",
       "        text-align: right;\n",
       "    }\n",
       "</style>\n",
       "<table border=\"1\" class=\"dataframe\">\n",
       "  <thead>\n",
       "    <tr style=\"text-align: right;\">\n",
       "      <th></th>\n",
       "      <th>Rating</th>\n",
       "      <th>Content</th>\n",
       "      <th>Cleaned Reviews</th>\n",
       "      <th>Final Reviews</th>\n",
       "      <th>Score</th>\n",
       "      <th>Polarity</th>\n",
       "    </tr>\n",
       "  </thead>\n",
       "  <tbody>\n",
       "    <tr>\n",
       "      <th>9</th>\n",
       "      <td>4</td>\n",
       "      <td>This is a nice little mini computer, but I am ...</td>\n",
       "      <td>this is a nice little mini computer but i am a...</td>\n",
       "      <td>nice littl mini comput littl disappoint bough...</td>\n",
       "      <td>0.166667</td>\n",
       "      <td>Positive</td>\n",
       "    </tr>\n",
       "    <tr>\n",
       "      <th>22</th>\n",
       "      <td>4</td>\n",
       "      <td>Kindle Fire, Full Color 7\" Multi-touch Display...</td>\n",
       "      <td>kindle fire full color multi touch display wi ...</td>\n",
       "      <td>kindl fire full color multi touch display wi ...</td>\n",
       "      <td>0.444444</td>\n",
       "      <td>Positive</td>\n",
       "    </tr>\n",
       "  </tbody>\n",
       "</table>\n",
       "</div>"
      ],
      "text/plain": [
       "    Rating                                            Content  \\\n",
       "9        4  This is a nice little mini computer, but I am ...   \n",
       "22       4  Kindle Fire, Full Color 7\" Multi-touch Display...   \n",
       "\n",
       "                                      Cleaned Reviews  \\\n",
       "9   this is a nice little mini computer but i am a...   \n",
       "22  kindle fire full color multi touch display wi ...   \n",
       "\n",
       "                                        Final Reviews     Score  Polarity  \n",
       "9    nice littl mini comput littl disappoint bough...  0.166667  Positive  \n",
       "22   kindl fire full color multi touch display wi ...  0.444444  Positive  "
      ]
     },
     "execution_count": 40,
     "metadata": {},
     "output_type": "execute_result"
    }
   ],
   "source": [
    "reviews_sample_screen['Score'] = reviews_sample_screen['Final Reviews'].apply(getPolarityScore) \n",
    "reviews_sample_screen['Polarity'] = reviews_sample_screen['Score'].apply(getPolarity)\n",
    "reviews_sample_screen.head(2)"
   ]
  },
  {
   "cell_type": "code",
   "execution_count": 39,
   "metadata": {},
   "outputs": [
    {
     "data": {
      "text/plain": [
       "Positive    5417\n",
       "Negative     343\n",
       "Neutral       46\n",
       "Name: Polarity, dtype: int64"
      ]
     },
     "execution_count": 39,
     "metadata": {},
     "output_type": "execute_result"
    }
   ],
   "source": [
    "reviews_sample_screen['Polarity'].value_counts()"
   ]
  },
  {
   "cell_type": "code",
   "execution_count": 28,
   "metadata": {},
   "outputs": [],
   "source": [
    "reviews_sample_custserv = reviews_sample[reviews_sample['Cleaned Reviews'].str.contains('customer service')]"
   ]
  },
  {
   "cell_type": "code",
   "execution_count": 41,
   "metadata": {},
   "outputs": [
    {
     "name": "stderr",
     "output_type": "stream",
     "text": [
      "<ipython-input-41-15103cad4d1b>:1: SettingWithCopyWarning: \n",
      "A value is trying to be set on a copy of a slice from a DataFrame.\n",
      "Try using .loc[row_indexer,col_indexer] = value instead\n",
      "\n",
      "See the caveats in the documentation: https://pandas.pydata.org/pandas-docs/stable/user_guide/indexing.html#returning-a-view-versus-a-copy\n",
      "  reviews_sample_custserv['Score'] = reviews_sample_custserv['Final Reviews'].apply(getPolarityScore)\n",
      "<ipython-input-41-15103cad4d1b>:2: SettingWithCopyWarning: \n",
      "A value is trying to be set on a copy of a slice from a DataFrame.\n",
      "Try using .loc[row_indexer,col_indexer] = value instead\n",
      "\n",
      "See the caveats in the documentation: https://pandas.pydata.org/pandas-docs/stable/user_guide/indexing.html#returning-a-view-versus-a-copy\n",
      "  reviews_sample_custserv['Polarity'] = reviews_sample_custserv['Score'].apply(getPolarity)\n"
     ]
    },
    {
     "data": {
      "text/html": [
       "<div>\n",
       "<style scoped>\n",
       "    .dataframe tbody tr th:only-of-type {\n",
       "        vertical-align: middle;\n",
       "    }\n",
       "\n",
       "    .dataframe tbody tr th {\n",
       "        vertical-align: top;\n",
       "    }\n",
       "\n",
       "    .dataframe thead th {\n",
       "        text-align: right;\n",
       "    }\n",
       "</style>\n",
       "<table border=\"1\" class=\"dataframe\">\n",
       "  <thead>\n",
       "    <tr style=\"text-align: right;\">\n",
       "      <th></th>\n",
       "      <th>Rating</th>\n",
       "      <th>Content</th>\n",
       "      <th>Cleaned Reviews</th>\n",
       "      <th>Final Reviews</th>\n",
       "      <th>Score</th>\n",
       "      <th>Polarity</th>\n",
       "    </tr>\n",
       "  </thead>\n",
       "  <tbody>\n",
       "    <tr>\n",
       "      <th>242</th>\n",
       "      <td>4</td>\n",
       "      <td>I pre-ordered a Kindle Fire even before the pr...</td>\n",
       "      <td>i pre ordered a kindle fire even before the pr...</td>\n",
       "      <td>pre order kindl fire even product st appear m...</td>\n",
       "      <td>0.023512</td>\n",
       "      <td>Positive</td>\n",
       "    </tr>\n",
       "    <tr>\n",
       "      <th>328</th>\n",
       "      <td>5</td>\n",
       "      <td>My first two kindles (pre-fire) both died spon...</td>\n",
       "      <td>my first two kindles pre fire both died sponta...</td>\n",
       "      <td>first two kindl pre fire die spontan without ...</td>\n",
       "      <td>0.050000</td>\n",
       "      <td>Positive</td>\n",
       "    </tr>\n",
       "  </tbody>\n",
       "</table>\n",
       "</div>"
      ],
      "text/plain": [
       "     Rating                                            Content  \\\n",
       "242       4  I pre-ordered a Kindle Fire even before the pr...   \n",
       "328       5  My first two kindles (pre-fire) both died spon...   \n",
       "\n",
       "                                       Cleaned Reviews  \\\n",
       "242  i pre ordered a kindle fire even before the pr...   \n",
       "328  my first two kindles pre fire both died sponta...   \n",
       "\n",
       "                                         Final Reviews     Score  Polarity  \n",
       "242   pre order kindl fire even product st appear m...  0.023512  Positive  \n",
       "328   first two kindl pre fire die spontan without ...  0.050000  Positive  "
      ]
     },
     "execution_count": 41,
     "metadata": {},
     "output_type": "execute_result"
    }
   ],
   "source": [
    "reviews_sample_custserv['Score'] = reviews_sample_custserv['Final Reviews'].apply(getPolarityScore) \n",
    "reviews_sample_custserv['Polarity'] = reviews_sample_custserv['Score'].apply(getPolarity)\n",
    "reviews_sample_custserv.head(2)"
   ]
  },
  {
   "cell_type": "code",
   "execution_count": 42,
   "metadata": {},
   "outputs": [
    {
     "data": {
      "text/plain": [
       "Positive    526\n",
       "Negative     69\n",
       "Neutral       8\n",
       "Name: Polarity, dtype: int64"
      ]
     },
     "execution_count": 42,
     "metadata": {},
     "output_type": "execute_result"
    }
   ],
   "source": [
    "reviews_sample_custserv['Polarity'].value_counts()"
   ]
  },
  {
   "cell_type": "code",
   "execution_count": 30,
   "metadata": {},
   "outputs": [],
   "source": [
    "reviews_sample_weight = reviews_sample[reviews_sample['Cleaned Reviews'].str.contains('weight')]"
   ]
  },
  {
   "cell_type": "code",
   "execution_count": 43,
   "metadata": {},
   "outputs": [
    {
     "name": "stderr",
     "output_type": "stream",
     "text": [
      "<ipython-input-43-91daa2110fe7>:1: SettingWithCopyWarning: \n",
      "A value is trying to be set on a copy of a slice from a DataFrame.\n",
      "Try using .loc[row_indexer,col_indexer] = value instead\n",
      "\n",
      "See the caveats in the documentation: https://pandas.pydata.org/pandas-docs/stable/user_guide/indexing.html#returning-a-view-versus-a-copy\n",
      "  reviews_sample_weight['Score'] = reviews_sample_weight['Final Reviews'].apply(getPolarityScore)\n",
      "<ipython-input-43-91daa2110fe7>:2: SettingWithCopyWarning: \n",
      "A value is trying to be set on a copy of a slice from a DataFrame.\n",
      "Try using .loc[row_indexer,col_indexer] = value instead\n",
      "\n",
      "See the caveats in the documentation: https://pandas.pydata.org/pandas-docs/stable/user_guide/indexing.html#returning-a-view-versus-a-copy\n",
      "  reviews_sample_weight['Polarity'] = reviews_sample_weight['Score'].apply(getPolarity)\n"
     ]
    },
    {
     "data": {
      "text/html": [
       "<div>\n",
       "<style scoped>\n",
       "    .dataframe tbody tr th:only-of-type {\n",
       "        vertical-align: middle;\n",
       "    }\n",
       "\n",
       "    .dataframe tbody tr th {\n",
       "        vertical-align: top;\n",
       "    }\n",
       "\n",
       "    .dataframe thead th {\n",
       "        text-align: right;\n",
       "    }\n",
       "</style>\n",
       "<table border=\"1\" class=\"dataframe\">\n",
       "  <thead>\n",
       "    <tr style=\"text-align: right;\">\n",
       "      <th></th>\n",
       "      <th>Rating</th>\n",
       "      <th>Content</th>\n",
       "      <th>Cleaned Reviews</th>\n",
       "      <th>Final Reviews</th>\n",
       "      <th>Score</th>\n",
       "      <th>Polarity</th>\n",
       "    </tr>\n",
       "  </thead>\n",
       "  <tbody>\n",
       "    <tr>\n",
       "      <th>30</th>\n",
       "      <td>5</td>\n",
       "      <td>The Kindle Fire does everything it promised it...</td>\n",
       "      <td>the kindle fire does everything it promised it...</td>\n",
       "      <td>kindl fire everyth promis would opinion much ...</td>\n",
       "      <td>0.191304</td>\n",
       "      <td>Positive</td>\n",
       "    </tr>\n",
       "    <tr>\n",
       "      <th>60</th>\n",
       "      <td>5</td>\n",
       "      <td>Everything the average person could want in a ...</td>\n",
       "      <td>everything the average person could want in a ...</td>\n",
       "      <td>everyth averag person could want tablet devic...</td>\n",
       "      <td>0.316667</td>\n",
       "      <td>Positive</td>\n",
       "    </tr>\n",
       "  </tbody>\n",
       "</table>\n",
       "</div>"
      ],
      "text/plain": [
       "    Rating                                            Content  \\\n",
       "30       5  The Kindle Fire does everything it promised it...   \n",
       "60       5  Everything the average person could want in a ...   \n",
       "\n",
       "                                      Cleaned Reviews  \\\n",
       "30  the kindle fire does everything it promised it...   \n",
       "60  everything the average person could want in a ...   \n",
       "\n",
       "                                        Final Reviews     Score  Polarity  \n",
       "30   kindl fire everyth promis would opinion much ...  0.191304  Positive  \n",
       "60   everyth averag person could want tablet devic...  0.316667  Positive  "
      ]
     },
     "execution_count": 43,
     "metadata": {},
     "output_type": "execute_result"
    }
   ],
   "source": [
    "reviews_sample_weight['Score'] = reviews_sample_weight['Final Reviews'].apply(getPolarityScore) \n",
    "reviews_sample_weight['Polarity'] = reviews_sample_weight['Score'].apply(getPolarity)\n",
    "reviews_sample_weight.head(2)"
   ]
  },
  {
   "cell_type": "code",
   "execution_count": 44,
   "metadata": {},
   "outputs": [
    {
     "data": {
      "text/plain": [
       "Positive    893\n",
       "Negative     35\n",
       "Neutral       3\n",
       "Name: Polarity, dtype: int64"
      ]
     },
     "execution_count": 44,
     "metadata": {},
     "output_type": "execute_result"
    }
   ],
   "source": [
    "reviews_sample_weight['Polarity'].value_counts()"
   ]
  },
  {
   "cell_type": "code",
   "execution_count": 32,
   "metadata": {},
   "outputs": [],
   "source": [
    "reviews_sample_price = reviews_sample[reviews_sample['Cleaned Reviews'].str.contains('price')]"
   ]
  },
  {
   "cell_type": "code",
   "execution_count": 45,
   "metadata": {},
   "outputs": [
    {
     "name": "stderr",
     "output_type": "stream",
     "text": [
      "<ipython-input-45-d90369574001>:1: SettingWithCopyWarning: \n",
      "A value is trying to be set on a copy of a slice from a DataFrame.\n",
      "Try using .loc[row_indexer,col_indexer] = value instead\n",
      "\n",
      "See the caveats in the documentation: https://pandas.pydata.org/pandas-docs/stable/user_guide/indexing.html#returning-a-view-versus-a-copy\n",
      "  reviews_sample_price['Score'] = reviews_sample_price['Final Reviews'].apply(getPolarityScore)\n",
      "<ipython-input-45-d90369574001>:2: SettingWithCopyWarning: \n",
      "A value is trying to be set on a copy of a slice from a DataFrame.\n",
      "Try using .loc[row_indexer,col_indexer] = value instead\n",
      "\n",
      "See the caveats in the documentation: https://pandas.pydata.org/pandas-docs/stable/user_guide/indexing.html#returning-a-view-versus-a-copy\n",
      "  reviews_sample_price['Polarity'] = reviews_sample_price['Score'].apply(getPolarity)\n"
     ]
    },
    {
     "data": {
      "text/html": [
       "<div>\n",
       "<style scoped>\n",
       "    .dataframe tbody tr th:only-of-type {\n",
       "        vertical-align: middle;\n",
       "    }\n",
       "\n",
       "    .dataframe tbody tr th {\n",
       "        vertical-align: top;\n",
       "    }\n",
       "\n",
       "    .dataframe thead th {\n",
       "        text-align: right;\n",
       "    }\n",
       "</style>\n",
       "<table border=\"1\" class=\"dataframe\">\n",
       "  <thead>\n",
       "    <tr style=\"text-align: right;\">\n",
       "      <th></th>\n",
       "      <th>Rating</th>\n",
       "      <th>Content</th>\n",
       "      <th>Cleaned Reviews</th>\n",
       "      <th>Final Reviews</th>\n",
       "      <th>Score</th>\n",
       "      <th>Polarity</th>\n",
       "    </tr>\n",
       "  </thead>\n",
       "  <tbody>\n",
       "    <tr>\n",
       "      <th>22</th>\n",
       "      <td>4</td>\n",
       "      <td>Kindle Fire, Full Color 7\" Multi-touch Display...</td>\n",
       "      <td>kindle fire full color multi touch display wi ...</td>\n",
       "      <td>kindl fire full color multi touch display wi ...</td>\n",
       "      <td>0.444444</td>\n",
       "      <td>Positive</td>\n",
       "    </tr>\n",
       "    <tr>\n",
       "      <th>27</th>\n",
       "      <td>5</td>\n",
       "      <td>I bought the Fire for my wife for Christmas, k...</td>\n",
       "      <td>i bought the fire for my wife for christmas kn...</td>\n",
       "      <td>bought fire wife christma know match ipad use...</td>\n",
       "      <td>0.250000</td>\n",
       "      <td>Positive</td>\n",
       "    </tr>\n",
       "  </tbody>\n",
       "</table>\n",
       "</div>"
      ],
      "text/plain": [
       "    Rating                                            Content  \\\n",
       "22       4  Kindle Fire, Full Color 7\" Multi-touch Display...   \n",
       "27       5  I bought the Fire for my wife for Christmas, k...   \n",
       "\n",
       "                                      Cleaned Reviews  \\\n",
       "22  kindle fire full color multi touch display wi ...   \n",
       "27  i bought the fire for my wife for christmas kn...   \n",
       "\n",
       "                                        Final Reviews     Score  Polarity  \n",
       "22   kindl fire full color multi touch display wi ...  0.444444  Positive  \n",
       "27   bought fire wife christma know match ipad use...  0.250000  Positive  "
      ]
     },
     "execution_count": 45,
     "metadata": {},
     "output_type": "execute_result"
    }
   ],
   "source": [
    "reviews_sample_price['Score'] = reviews_sample_price['Final Reviews'].apply(getPolarityScore) \n",
    "reviews_sample_price['Polarity'] = reviews_sample_price['Score'].apply(getPolarity)\n",
    "reviews_sample_price.head(2)"
   ]
  },
  {
   "cell_type": "code",
   "execution_count": 46,
   "metadata": {},
   "outputs": [
    {
     "data": {
      "text/plain": [
       "Positive    3828\n",
       "Negative     143\n",
       "Neutral       27\n",
       "Name: Polarity, dtype: int64"
      ]
     },
     "execution_count": 46,
     "metadata": {},
     "output_type": "execute_result"
    }
   ],
   "source": [
    "reviews_sample_price['Polarity'].value_counts()"
   ]
  },
  {
   "cell_type": "code",
   "execution_count": 47,
   "metadata": {},
   "outputs": [
    {
     "data": {
      "text/html": [
       "<div>\n",
       "<style scoped>\n",
       "    .dataframe tbody tr th:only-of-type {\n",
       "        vertical-align: middle;\n",
       "    }\n",
       "\n",
       "    .dataframe tbody tr th {\n",
       "        vertical-align: top;\n",
       "    }\n",
       "\n",
       "    .dataframe thead th {\n",
       "        text-align: right;\n",
       "    }\n",
       "</style>\n",
       "<table border=\"1\" class=\"dataframe\">\n",
       "  <thead>\n",
       "    <tr style=\"text-align: right;\">\n",
       "      <th></th>\n",
       "      <th>Rating</th>\n",
       "      <th>Content</th>\n",
       "      <th>Cleaned Reviews</th>\n",
       "      <th>Final Reviews</th>\n",
       "      <th>LDA Reviews</th>\n",
       "    </tr>\n",
       "  </thead>\n",
       "  <tbody>\n",
       "    <tr>\n",
       "      <th>1</th>\n",
       "      <td>2</td>\n",
       "      <td>The operating system is is an early android. Y...</td>\n",
       "      <td>the operating system is is an early android yo...</td>\n",
       "      <td>oper system earli android cant use download k...</td>\n",
       "      <td>[operating, system, early, android, cant, use,...</td>\n",
       "    </tr>\n",
       "    <tr>\n",
       "      <th>2</th>\n",
       "      <td>2</td>\n",
       "      <td>I have been reading on Kindle since the Kindle...</td>\n",
       "      <td>i have been reading on kindle since the kindle...</td>\n",
       "      <td>read kindl sinc kindl releas pretti heavili i...</td>\n",
       "      <td>[reading, kindle, since, kindle, released, pre...</td>\n",
       "    </tr>\n",
       "  </tbody>\n",
       "</table>\n",
       "</div>"
      ],
      "text/plain": [
       "   Rating                                            Content  \\\n",
       "1       2  The operating system is is an early android. Y...   \n",
       "2       2  I have been reading on Kindle since the Kindle...   \n",
       "\n",
       "                                     Cleaned Reviews  \\\n",
       "1  the operating system is is an early android yo...   \n",
       "2  i have been reading on kindle since the kindle...   \n",
       "\n",
       "                                       Final Reviews  \\\n",
       "1   oper system earli android cant use download k...   \n",
       "2   read kindl sinc kindl releas pretti heavili i...   \n",
       "\n",
       "                                         LDA Reviews  \n",
       "1  [operating, system, early, android, cant, use,...  \n",
       "2  [reading, kindle, since, kindle, released, pre...  "
      ]
     },
     "execution_count": 47,
     "metadata": {},
     "output_type": "execute_result"
    }
   ],
   "source": [
    "def token_stop(text):\n",
    "    tokens = word_tokenize(text) # tokenize the text\n",
    "    newlist = []\n",
    "    for word in tokens:\n",
    "        if word not in set(stopwords.words('english')): # remove stop words\n",
    "          newlist.append(word)\n",
    "    return newlist\n",
    "\n",
    "reviews_sample['LDA Reviews'] = reviews_sample['Cleaned Reviews'].apply(token_stop)\n",
    "reviews_sample.head(2)"
   ]
  },
  {
   "cell_type": "code",
   "execution_count": 49,
   "metadata": {},
   "outputs": [
    {
     "name": "stdout",
     "output_type": "stream",
     "text": [
      "Dictionary<28518 unique tokens: ['android', 'barns', 'cant', 'com', 'download']...>\n"
     ]
    }
   ],
   "source": [
    "dict_ = corpora.Dictionary(reviews_sample['LDA Reviews'])\n",
    "print(dict_)"
   ]
  },
  {
   "cell_type": "code",
   "execution_count": 50,
   "metadata": {},
   "outputs": [],
   "source": [
    "# convert list of documents (corpus) into Document Term Matrix using the dictionary \n",
    "doc_term_matrix = [dict_.doc2bow(i) for i in reviews_sample['LDA Reviews']]"
   ]
  },
  {
   "cell_type": "markdown",
   "metadata": {},
   "source": [
    "## LDA "
   ]
  },
  {
   "cell_type": "code",
   "execution_count": 51,
   "metadata": {},
   "outputs": [],
   "source": [
    "topic_3 = 3\n",
    "topic_5 = 5\n",
    "topic_7 = 7\n",
    "chunksize = 1000\n",
    "passes = 20\n",
    "iterations = 400\n",
    "eval_every = None  # don't evaluate model perplexity, takes too much time\n",
    "\n",
    "lda = gensim.models.LdaModel"
   ]
  },
  {
   "cell_type": "markdown",
   "metadata": {},
   "source": [
    "### 3 topics"
   ]
  },
  {
   "cell_type": "code",
   "execution_count": 52,
   "metadata": {},
   "outputs": [],
   "source": [
    "lda_model_3 = lda(doc_term_matrix,\n",
    "    num_topics=topic_3,\n",
    "    id2word = dict_,\n",
    "    iterations=iterations,\n",
    "    passes=passes,\n",
    "    eval_every=eval_every,\n",
    "    random_state=9651\n",
    ")"
   ]
  },
  {
   "cell_type": "code",
   "execution_count": 53,
   "metadata": {},
   "outputs": [
    {
     "data": {
      "text/plain": [
       "[(0,\n",
       "  '0.040*\"kindle\" + 0.039*\"fire\" + 0.014*\"books\" + 0.012*\"love\" + 0.012*\"great\" + 0.012*\"ipad\" + 0.011*\"read\" + 0.011*\"reading\" + 0.010*\"use\" + 0.010*\"like\"'),\n",
       " (1,\n",
       "  '0.038*\"kindle\" + 0.027*\"fire\" + 0.017*\"amazon\" + 0.012*\"one\" + 0.010*\"would\" + 0.009*\"get\" + 0.006*\"christmas\" + 0.006*\"got\" + 0.006*\"bought\" + 0.005*\"time\"'),\n",
       " (2,\n",
       "  '0.013*\"tablet\" + 0.010*\"device\" + 0.010*\"android\" + 0.009*\"app\" + 0.009*\"apps\" + 0.009*\"screen\" + 0.008*\"amazon\" + 0.007*\"ipad\" + 0.007*\"like\" + 0.006*\"use\"')]"
      ]
     },
     "execution_count": 53,
     "metadata": {},
     "output_type": "execute_result"
    }
   ],
   "source": [
    "lda_model_3.print_topics(num_words=10)"
   ]
  },
  {
   "cell_type": "code",
   "execution_count": 57,
   "metadata": {},
   "outputs": [
    {
     "data": {
      "text/plain": [
       "-7.4003680145915345"
      ]
     },
     "execution_count": 57,
     "metadata": {},
     "output_type": "execute_result"
    }
   ],
   "source": [
    "lda_model_3.log_perplexity(doc_term_matrix)"
   ]
  },
  {
   "cell_type": "markdown",
   "metadata": {},
   "source": [
    "### 5 topics"
   ]
  },
  {
   "cell_type": "code",
   "execution_count": 58,
   "metadata": {},
   "outputs": [],
   "source": [
    "lda_model_5 = lda(doc_term_matrix,\n",
    "    num_topics=topic_5,\n",
    "    id2word = dict_,\n",
    "    iterations=iterations,\n",
    "    passes=passes,\n",
    "    eval_every=eval_every,\n",
    "    random_state=9651\n",
    ")"
   ]
  },
  {
   "cell_type": "code",
   "execution_count": 59,
   "metadata": {},
   "outputs": [
    {
     "data": {
      "text/plain": [
       "[(0,\n",
       "  '0.026*\"screen\" + 0.015*\"battery\" + 0.012*\"use\" + 0.011*\"reading\" + 0.010*\"touch\" + 0.010*\"life\" + 0.009*\"kindle\" + 0.009*\"g\" + 0.009*\"wifi\" + 0.008*\"e\"'),\n",
       " (1,\n",
       "  '0.033*\"fire\" + 0.031*\"kindle\" + 0.020*\"amazon\" + 0.012*\"books\" + 0.010*\"device\" + 0.010*\"like\" + 0.009*\"one\" + 0.009*\"would\" + 0.008*\"read\" + 0.007*\"book\"'),\n",
       " (2,\n",
       "  '0.017*\"tablet\" + 0.013*\"android\" + 0.012*\"ipad\" + 0.012*\"apps\" + 0.011*\"app\" + 0.011*\"device\" + 0.008*\"screen\" + 0.006*\"like\" + 0.006*\"good\" + 0.006*\"use\"'),\n",
       " (3,\n",
       "  '0.033*\"kindle\" + 0.018*\"fire\" + 0.015*\"amazon\" + 0.012*\"one\" + 0.011*\"get\" + 0.010*\"would\" + 0.008*\"problem\" + 0.008*\"back\" + 0.007*\"service\" + 0.007*\"new\"'),\n",
       " (4,\n",
       "  '0.057*\"kindle\" + 0.048*\"fire\" + 0.026*\"love\" + 0.021*\"great\" + 0.018*\"ipad\" + 0.013*\"use\" + 0.012*\"books\" + 0.011*\"easy\" + 0.009*\"read\" + 0.009*\"would\"')]"
      ]
     },
     "execution_count": 59,
     "metadata": {},
     "output_type": "execute_result"
    }
   ],
   "source": [
    "lda_model_5.print_topics(num_words=10)"
   ]
  },
  {
   "cell_type": "code",
   "execution_count": 60,
   "metadata": {},
   "outputs": [
    {
     "data": {
      "text/plain": [
       "-7.42172094844327"
      ]
     },
     "execution_count": 60,
     "metadata": {},
     "output_type": "execute_result"
    }
   ],
   "source": [
    "lda_model_5.log_perplexity(doc_term_matrix)"
   ]
  },
  {
   "cell_type": "markdown",
   "metadata": {},
   "source": [
    "### 7 topics"
   ]
  },
  {
   "cell_type": "code",
   "execution_count": 61,
   "metadata": {},
   "outputs": [],
   "source": [
    "lda_model_7 = lda(doc_term_matrix,\n",
    "    num_topics=topic_7,\n",
    "    id2word = dict_,\n",
    "    iterations=iterations,\n",
    "    passes=passes,\n",
    "    eval_every=eval_every,\n",
    "    random_state=9651\n",
    ")"
   ]
  },
  {
   "cell_type": "code",
   "execution_count": 62,
   "metadata": {},
   "outputs": [
    {
     "data": {
      "text/plain": [
       "[(0,\n",
       "  '0.046*\"tablet\" + 0.024*\"android\" + 0.014*\"apps\" + 0.013*\"app\" + 0.012*\"screen\" + 0.011*\"market\" + 0.010*\"good\" + 0.010*\"great\" + 0.010*\"battery\" + 0.008*\"also\"'),\n",
       " (1,\n",
       "  '0.040*\"kindle\" + 0.027*\"fire\" + 0.020*\"amazon\" + 0.017*\"one\" + 0.011*\"get\" + 0.010*\"would\" + 0.009*\"buy\" + 0.008*\"books\" + 0.008*\"bought\" + 0.006*\"got\"'),\n",
       " (2,\n",
       "  '0.012*\"usb\" + 0.011*\"use\" + 0.009*\"computer\" + 0.008*\"files\" + 0.008*\"laptop\" + 0.007*\"keyboard\" + 0.007*\"need\" + 0.007*\"pc\" + 0.007*\"app\" + 0.007*\"file\"'),\n",
       " (3,\n",
       "  '0.028*\"kindle\" + 0.016*\"fire\" + 0.015*\"service\" + 0.014*\"amazon\" + 0.014*\"problem\" + 0.013*\"customer\" + 0.010*\"support\" + 0.010*\"back\" + 0.010*\"would\" + 0.010*\"device\"'),\n",
       " (4,\n",
       "  '0.061*\"kindle\" + 0.051*\"fire\" + 0.026*\"love\" + 0.021*\"great\" + 0.020*\"books\" + 0.015*\"use\" + 0.014*\"read\" + 0.013*\"easy\" + 0.010*\"ipad\" + 0.010*\"reading\"'),\n",
       " (5,\n",
       "  '0.020*\"ipad\" + 0.018*\"device\" + 0.018*\"amazon\" + 0.013*\"fire\" + 0.011*\"apps\" + 0.009*\"app\" + 0.008*\"kindle\" + 0.008*\"tablet\" + 0.007*\"like\" + 0.007*\"android\"'),\n",
       " (6,\n",
       "  '0.021*\"screen\" + 0.017*\"kindle\" + 0.015*\"fire\" + 0.012*\"like\" + 0.012*\"reading\" + 0.010*\"touch\" + 0.010*\"read\" + 0.008*\"book\" + 0.008*\"button\" + 0.008*\"would\"')]"
      ]
     },
     "execution_count": 62,
     "metadata": {},
     "output_type": "execute_result"
    }
   ],
   "source": [
    "lda_model_7.print_topics(num_words=10)"
   ]
  },
  {
   "cell_type": "code",
   "execution_count": 63,
   "metadata": {},
   "outputs": [
    {
     "data": {
      "text/plain": [
       "-7.421720808702167"
      ]
     },
     "execution_count": 63,
     "metadata": {},
     "output_type": "execute_result"
    }
   ],
   "source": [
    "lda_model_5.log_perplexity(doc_term_matrix)"
   ]
  }
 ],
 "metadata": {
  "kernelspec": {
   "display_name": "Python 3",
   "language": "python",
   "name": "python3"
  },
  "language_info": {
   "codemirror_mode": {
    "name": "ipython",
    "version": 3
   },
   "file_extension": ".py",
   "mimetype": "text/x-python",
   "name": "python",
   "nbconvert_exporter": "python",
   "pygments_lexer": "ipython3",
   "version": "3.8.5"
  }
 },
 "nbformat": 4,
 "nbformat_minor": 4
}
